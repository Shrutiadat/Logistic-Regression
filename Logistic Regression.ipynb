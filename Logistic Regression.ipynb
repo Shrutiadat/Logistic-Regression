{
 "cells": [
  {
   "cell_type": "code",
   "execution_count": 1,
   "id": "0b65b47c",
   "metadata": {},
   "outputs": [],
   "source": [
    "import pandas as pd\n",
    "pd.set_option('display.max_column',None)\n",
    "pd.set_option('display.max_rows',None)\n",
    "import numpy as np"
   ]
  },
  {
   "cell_type": "code",
   "execution_count": 2,
   "id": "a8844d70",
   "metadata": {},
   "outputs": [],
   "source": [
    "lr = pd.read_csv(r'CreditRisk.csv')"
   ]
  },
  {
   "cell_type": "code",
   "execution_count": 3,
   "id": "5af42cce",
   "metadata": {},
   "outputs": [
    {
     "data": {
      "text/html": [
       "<div>\n",
       "<style scoped>\n",
       "    .dataframe tbody tr th:only-of-type {\n",
       "        vertical-align: middle;\n",
       "    }\n",
       "\n",
       "    .dataframe tbody tr th {\n",
       "        vertical-align: top;\n",
       "    }\n",
       "\n",
       "    .dataframe thead th {\n",
       "        text-align: right;\n",
       "    }\n",
       "</style>\n",
       "<table border=\"1\" class=\"dataframe\">\n",
       "  <thead>\n",
       "    <tr style=\"text-align: right;\">\n",
       "      <th></th>\n",
       "      <th>Loan_ID</th>\n",
       "      <th>Gender</th>\n",
       "      <th>Married</th>\n",
       "      <th>Dependents</th>\n",
       "      <th>Education</th>\n",
       "      <th>Self_Employed</th>\n",
       "      <th>ApplicantIncome</th>\n",
       "      <th>CoapplicantIncome</th>\n",
       "      <th>LoanAmount</th>\n",
       "      <th>Loan_Amount_Term</th>\n",
       "      <th>Credit_History</th>\n",
       "      <th>Property_Area</th>\n",
       "      <th>Loan_Status</th>\n",
       "    </tr>\n",
       "  </thead>\n",
       "  <tbody>\n",
       "    <tr>\n",
       "      <th>0</th>\n",
       "      <td>LP001002</td>\n",
       "      <td>Male</td>\n",
       "      <td>No</td>\n",
       "      <td>0.0</td>\n",
       "      <td>Graduate</td>\n",
       "      <td>No</td>\n",
       "      <td>5849</td>\n",
       "      <td>0.0</td>\n",
       "      <td>NaN</td>\n",
       "      <td>360.0</td>\n",
       "      <td>1.0</td>\n",
       "      <td>Urban</td>\n",
       "      <td>Y</td>\n",
       "    </tr>\n",
       "    <tr>\n",
       "      <th>1</th>\n",
       "      <td>LP001003</td>\n",
       "      <td>Male</td>\n",
       "      <td>Yes</td>\n",
       "      <td>1.0</td>\n",
       "      <td>Graduate</td>\n",
       "      <td>No</td>\n",
       "      <td>4583</td>\n",
       "      <td>1508.0</td>\n",
       "      <td>128.0</td>\n",
       "      <td>360.0</td>\n",
       "      <td>1.0</td>\n",
       "      <td>Rural</td>\n",
       "      <td>N</td>\n",
       "    </tr>\n",
       "    <tr>\n",
       "      <th>2</th>\n",
       "      <td>LP001005</td>\n",
       "      <td>Male</td>\n",
       "      <td>Yes</td>\n",
       "      <td>0.0</td>\n",
       "      <td>Graduate</td>\n",
       "      <td>Yes</td>\n",
       "      <td>3000</td>\n",
       "      <td>0.0</td>\n",
       "      <td>66.0</td>\n",
       "      <td>360.0</td>\n",
       "      <td>1.0</td>\n",
       "      <td>Urban</td>\n",
       "      <td>Y</td>\n",
       "    </tr>\n",
       "    <tr>\n",
       "      <th>3</th>\n",
       "      <td>LP001006</td>\n",
       "      <td>Male</td>\n",
       "      <td>Yes</td>\n",
       "      <td>0.0</td>\n",
       "      <td>Not Graduate</td>\n",
       "      <td>No</td>\n",
       "      <td>2583</td>\n",
       "      <td>2358.0</td>\n",
       "      <td>120.0</td>\n",
       "      <td>360.0</td>\n",
       "      <td>1.0</td>\n",
       "      <td>Urban</td>\n",
       "      <td>Y</td>\n",
       "    </tr>\n",
       "    <tr>\n",
       "      <th>4</th>\n",
       "      <td>LP001008</td>\n",
       "      <td>Male</td>\n",
       "      <td>No</td>\n",
       "      <td>0.0</td>\n",
       "      <td>Graduate</td>\n",
       "      <td>No</td>\n",
       "      <td>6000</td>\n",
       "      <td>0.0</td>\n",
       "      <td>141.0</td>\n",
       "      <td>360.0</td>\n",
       "      <td>1.0</td>\n",
       "      <td>Urban</td>\n",
       "      <td>Y</td>\n",
       "    </tr>\n",
       "  </tbody>\n",
       "</table>\n",
       "</div>"
      ],
      "text/plain": [
       "    Loan_ID Gender Married  Dependents     Education Self_Employed  \\\n",
       "0  LP001002   Male      No         0.0      Graduate            No   \n",
       "1  LP001003   Male     Yes         1.0      Graduate            No   \n",
       "2  LP001005   Male     Yes         0.0      Graduate           Yes   \n",
       "3  LP001006   Male     Yes         0.0  Not Graduate            No   \n",
       "4  LP001008   Male      No         0.0      Graduate            No   \n",
       "\n",
       "   ApplicantIncome  CoapplicantIncome  LoanAmount  Loan_Amount_Term  \\\n",
       "0             5849                0.0         NaN             360.0   \n",
       "1             4583             1508.0       128.0             360.0   \n",
       "2             3000                0.0        66.0             360.0   \n",
       "3             2583             2358.0       120.0             360.0   \n",
       "4             6000                0.0       141.0             360.0   \n",
       "\n",
       "   Credit_History Property_Area Loan_Status  \n",
       "0             1.0         Urban           Y  \n",
       "1             1.0         Rural           N  \n",
       "2             1.0         Urban           Y  \n",
       "3             1.0         Urban           Y  \n",
       "4             1.0         Urban           Y  "
      ]
     },
     "execution_count": 3,
     "metadata": {},
     "output_type": "execute_result"
    }
   ],
   "source": [
    "lr.head()"
   ]
  },
  {
   "cell_type": "code",
   "execution_count": 4,
   "id": "b97d2d72",
   "metadata": {},
   "outputs": [
    {
     "data": {
      "text/plain": [
       "(981, 13)"
      ]
     },
     "execution_count": 4,
     "metadata": {},
     "output_type": "execute_result"
    }
   ],
   "source": [
    "lr.shape"
   ]
  },
  {
   "cell_type": "code",
   "execution_count": 5,
   "id": "03b78457",
   "metadata": {},
   "outputs": [
    {
     "data": {
      "text/plain": [
       "Loan_ID               0\n",
       "Gender               24\n",
       "Married               3\n",
       "Dependents           25\n",
       "Education             0\n",
       "Self_Employed        55\n",
       "ApplicantIncome       0\n",
       "CoapplicantIncome     0\n",
       "LoanAmount           27\n",
       "Loan_Amount_Term     20\n",
       "Credit_History       79\n",
       "Property_Area         0\n",
       "Loan_Status           0\n",
       "dtype: int64"
      ]
     },
     "execution_count": 5,
     "metadata": {},
     "output_type": "execute_result"
    }
   ],
   "source": [
    "lr.isnull().sum()"
   ]
  },
  {
   "cell_type": "code",
   "execution_count": 6,
   "id": "46cdc878",
   "metadata": {},
   "outputs": [],
   "source": [
    "lr.Gender = lr.Gender.fillna('Male')\n",
    "lr.Married = lr.Married.fillna('NO')\n",
    "lr.Self_Employed = lr.Self_Employed.fillna('Yes')"
   ]
  },
  {
   "cell_type": "code",
   "execution_count": 7,
   "id": "4f3accbb",
   "metadata": {},
   "outputs": [],
   "source": [
    "lr.Dependents = lr.Dependents .fillna(0)\n",
    "lr.LoanAmount = lr.LoanAmount.fillna(lr.LoanAmount.mean())\n",
    "lr.Loan_Amount_Term = lr.Loan_Amount_Term.fillna(lr.Loan_Amount_Term.mean())\n",
    "lr.Credit_History= lr.Credit_History.fillna(0)"
   ]
  },
  {
   "cell_type": "code",
   "execution_count": null,
   "id": "8db9f3e7",
   "metadata": {},
   "outputs": [],
   "source": []
  },
  {
   "cell_type": "code",
   "execution_count": 8,
   "id": "e136e84c",
   "metadata": {},
   "outputs": [],
   "source": [
    "from sklearn.preprocessing import LabelEncoder\n",
    "le = LabelEncoder()\n",
    "lr[lr.select_dtypes(include = ['object']).columns]= lr[lr.select_dtypes(include = ['object']).columns].apply(le.fit_transform)"
   ]
  },
  {
   "cell_type": "code",
   "execution_count": 9,
   "id": "6bff8cac",
   "metadata": {},
   "outputs": [
    {
     "data": {
      "text/html": [
       "<div>\n",
       "<style scoped>\n",
       "    .dataframe tbody tr th:only-of-type {\n",
       "        vertical-align: middle;\n",
       "    }\n",
       "\n",
       "    .dataframe tbody tr th {\n",
       "        vertical-align: top;\n",
       "    }\n",
       "\n",
       "    .dataframe thead th {\n",
       "        text-align: right;\n",
       "    }\n",
       "</style>\n",
       "<table border=\"1\" class=\"dataframe\">\n",
       "  <thead>\n",
       "    <tr style=\"text-align: right;\">\n",
       "      <th></th>\n",
       "      <th>Loan_ID</th>\n",
       "      <th>Gender</th>\n",
       "      <th>Married</th>\n",
       "      <th>Dependents</th>\n",
       "      <th>Education</th>\n",
       "      <th>Self_Employed</th>\n",
       "      <th>ApplicantIncome</th>\n",
       "      <th>CoapplicantIncome</th>\n",
       "      <th>LoanAmount</th>\n",
       "      <th>Loan_Amount_Term</th>\n",
       "      <th>Credit_History</th>\n",
       "      <th>Property_Area</th>\n",
       "      <th>Loan_Status</th>\n",
       "    </tr>\n",
       "  </thead>\n",
       "  <tbody>\n",
       "    <tr>\n",
       "      <th>0</th>\n",
       "      <td>0</td>\n",
       "      <td>1</td>\n",
       "      <td>1</td>\n",
       "      <td>0.0</td>\n",
       "      <td>0</td>\n",
       "      <td>0</td>\n",
       "      <td>5849</td>\n",
       "      <td>0.0</td>\n",
       "      <td>142.51153</td>\n",
       "      <td>360.0</td>\n",
       "      <td>1.0</td>\n",
       "      <td>2</td>\n",
       "      <td>1</td>\n",
       "    </tr>\n",
       "    <tr>\n",
       "      <th>1</th>\n",
       "      <td>1</td>\n",
       "      <td>1</td>\n",
       "      <td>2</td>\n",
       "      <td>1.0</td>\n",
       "      <td>0</td>\n",
       "      <td>0</td>\n",
       "      <td>4583</td>\n",
       "      <td>1508.0</td>\n",
       "      <td>128.00000</td>\n",
       "      <td>360.0</td>\n",
       "      <td>1.0</td>\n",
       "      <td>0</td>\n",
       "      <td>0</td>\n",
       "    </tr>\n",
       "    <tr>\n",
       "      <th>2</th>\n",
       "      <td>2</td>\n",
       "      <td>1</td>\n",
       "      <td>2</td>\n",
       "      <td>0.0</td>\n",
       "      <td>0</td>\n",
       "      <td>1</td>\n",
       "      <td>3000</td>\n",
       "      <td>0.0</td>\n",
       "      <td>66.00000</td>\n",
       "      <td>360.0</td>\n",
       "      <td>1.0</td>\n",
       "      <td>2</td>\n",
       "      <td>1</td>\n",
       "    </tr>\n",
       "    <tr>\n",
       "      <th>3</th>\n",
       "      <td>3</td>\n",
       "      <td>1</td>\n",
       "      <td>2</td>\n",
       "      <td>0.0</td>\n",
       "      <td>1</td>\n",
       "      <td>0</td>\n",
       "      <td>2583</td>\n",
       "      <td>2358.0</td>\n",
       "      <td>120.00000</td>\n",
       "      <td>360.0</td>\n",
       "      <td>1.0</td>\n",
       "      <td>2</td>\n",
       "      <td>1</td>\n",
       "    </tr>\n",
       "    <tr>\n",
       "      <th>4</th>\n",
       "      <td>4</td>\n",
       "      <td>1</td>\n",
       "      <td>1</td>\n",
       "      <td>0.0</td>\n",
       "      <td>0</td>\n",
       "      <td>0</td>\n",
       "      <td>6000</td>\n",
       "      <td>0.0</td>\n",
       "      <td>141.00000</td>\n",
       "      <td>360.0</td>\n",
       "      <td>1.0</td>\n",
       "      <td>2</td>\n",
       "      <td>1</td>\n",
       "    </tr>\n",
       "  </tbody>\n",
       "</table>\n",
       "</div>"
      ],
      "text/plain": [
       "   Loan_ID  Gender  Married  Dependents  Education  Self_Employed  \\\n",
       "0        0       1        1         0.0          0              0   \n",
       "1        1       1        2         1.0          0              0   \n",
       "2        2       1        2         0.0          0              1   \n",
       "3        3       1        2         0.0          1              0   \n",
       "4        4       1        1         0.0          0              0   \n",
       "\n",
       "   ApplicantIncome  CoapplicantIncome  LoanAmount  Loan_Amount_Term  \\\n",
       "0             5849                0.0   142.51153             360.0   \n",
       "1             4583             1508.0   128.00000             360.0   \n",
       "2             3000                0.0    66.00000             360.0   \n",
       "3             2583             2358.0   120.00000             360.0   \n",
       "4             6000                0.0   141.00000             360.0   \n",
       "\n",
       "   Credit_History  Property_Area  Loan_Status  \n",
       "0             1.0              2            1  \n",
       "1             1.0              0            0  \n",
       "2             1.0              2            1  \n",
       "3             1.0              2            1  \n",
       "4             1.0              2            1  "
      ]
     },
     "execution_count": 9,
     "metadata": {},
     "output_type": "execute_result"
    }
   ],
   "source": [
    "lr.head()"
   ]
  },
  {
   "cell_type": "code",
   "execution_count": 10,
   "id": "186a16cd",
   "metadata": {},
   "outputs": [],
   "source": [
    "from sklearn.model_selection import train_test_split\n",
    "lr_train,lr_test = train_test_split(lr, test_size = .2)"
   ]
  },
  {
   "cell_type": "code",
   "execution_count": 11,
   "id": "d2e9bc13",
   "metadata": {},
   "outputs": [],
   "source": [
    "lr_train_x = lr_train.iloc[:,0:-1]\n",
    "lr_train_y = lr_train.iloc[:,-1]"
   ]
  },
  {
   "cell_type": "code",
   "execution_count": 12,
   "id": "afc4c9f8",
   "metadata": {},
   "outputs": [],
   "source": [
    "lr_test_x = lr_test.iloc[:,0:-1]\n",
    "lr_test_y = lr_test.iloc[:,-1]"
   ]
  },
  {
   "cell_type": "code",
   "execution_count": null,
   "id": "ac8abdd6",
   "metadata": {},
   "outputs": [],
   "source": []
  },
  {
   "cell_type": "code",
   "execution_count": 13,
   "id": "215ac9c3",
   "metadata": {},
   "outputs": [],
   "source": [
    "from sklearn.linear_model import LogisticRegression"
   ]
  },
  {
   "cell_type": "code",
   "execution_count": 14,
   "id": "b68c99a3",
   "metadata": {},
   "outputs": [],
   "source": [
    "logi_lr = LogisticRegression()"
   ]
  },
  {
   "cell_type": "code",
   "execution_count": 15,
   "id": "4723422c",
   "metadata": {},
   "outputs": [
    {
     "name": "stderr",
     "output_type": "stream",
     "text": [
      "D:\\Anaconda\\envs\\py310\\lib\\site-packages\\sklearn\\linear_model\\_logistic.py:460: ConvergenceWarning: lbfgs failed to converge (status=1):\n",
      "STOP: TOTAL NO. of ITERATIONS REACHED LIMIT.\n",
      "\n",
      "Increase the number of iterations (max_iter) or scale the data as shown in:\n",
      "    https://scikit-learn.org/stable/modules/preprocessing.html\n",
      "Please also refer to the documentation for alternative solver options:\n",
      "    https://scikit-learn.org/stable/modules/linear_model.html#logistic-regression\n",
      "  n_iter_i = _check_optimize_result(\n"
     ]
    },
    {
     "data": {
      "text/html": [
       "<style>#sk-container-id-1 {color: black;}#sk-container-id-1 pre{padding: 0;}#sk-container-id-1 div.sk-toggleable {background-color: white;}#sk-container-id-1 label.sk-toggleable__label {cursor: pointer;display: block;width: 100%;margin-bottom: 0;padding: 0.3em;box-sizing: border-box;text-align: center;}#sk-container-id-1 label.sk-toggleable__label-arrow:before {content: \"▸\";float: left;margin-right: 0.25em;color: #696969;}#sk-container-id-1 label.sk-toggleable__label-arrow:hover:before {color: black;}#sk-container-id-1 div.sk-estimator:hover label.sk-toggleable__label-arrow:before {color: black;}#sk-container-id-1 div.sk-toggleable__content {max-height: 0;max-width: 0;overflow: hidden;text-align: left;background-color: #f0f8ff;}#sk-container-id-1 div.sk-toggleable__content pre {margin: 0.2em;color: black;border-radius: 0.25em;background-color: #f0f8ff;}#sk-container-id-1 input.sk-toggleable__control:checked~div.sk-toggleable__content {max-height: 200px;max-width: 100%;overflow: auto;}#sk-container-id-1 input.sk-toggleable__control:checked~label.sk-toggleable__label-arrow:before {content: \"▾\";}#sk-container-id-1 div.sk-estimator input.sk-toggleable__control:checked~label.sk-toggleable__label {background-color: #d4ebff;}#sk-container-id-1 div.sk-label input.sk-toggleable__control:checked~label.sk-toggleable__label {background-color: #d4ebff;}#sk-container-id-1 input.sk-hidden--visually {border: 0;clip: rect(1px 1px 1px 1px);clip: rect(1px, 1px, 1px, 1px);height: 1px;margin: -1px;overflow: hidden;padding: 0;position: absolute;width: 1px;}#sk-container-id-1 div.sk-estimator {font-family: monospace;background-color: #f0f8ff;border: 1px dotted black;border-radius: 0.25em;box-sizing: border-box;margin-bottom: 0.5em;}#sk-container-id-1 div.sk-estimator:hover {background-color: #d4ebff;}#sk-container-id-1 div.sk-parallel-item::after {content: \"\";width: 100%;border-bottom: 1px solid gray;flex-grow: 1;}#sk-container-id-1 div.sk-label:hover label.sk-toggleable__label {background-color: #d4ebff;}#sk-container-id-1 div.sk-serial::before {content: \"\";position: absolute;border-left: 1px solid gray;box-sizing: border-box;top: 0;bottom: 0;left: 50%;z-index: 0;}#sk-container-id-1 div.sk-serial {display: flex;flex-direction: column;align-items: center;background-color: white;padding-right: 0.2em;padding-left: 0.2em;position: relative;}#sk-container-id-1 div.sk-item {position: relative;z-index: 1;}#sk-container-id-1 div.sk-parallel {display: flex;align-items: stretch;justify-content: center;background-color: white;position: relative;}#sk-container-id-1 div.sk-item::before, #sk-container-id-1 div.sk-parallel-item::before {content: \"\";position: absolute;border-left: 1px solid gray;box-sizing: border-box;top: 0;bottom: 0;left: 50%;z-index: -1;}#sk-container-id-1 div.sk-parallel-item {display: flex;flex-direction: column;z-index: 1;position: relative;background-color: white;}#sk-container-id-1 div.sk-parallel-item:first-child::after {align-self: flex-end;width: 50%;}#sk-container-id-1 div.sk-parallel-item:last-child::after {align-self: flex-start;width: 50%;}#sk-container-id-1 div.sk-parallel-item:only-child::after {width: 0;}#sk-container-id-1 div.sk-dashed-wrapped {border: 1px dashed gray;margin: 0 0.4em 0.5em 0.4em;box-sizing: border-box;padding-bottom: 0.4em;background-color: white;}#sk-container-id-1 div.sk-label label {font-family: monospace;font-weight: bold;display: inline-block;line-height: 1.2em;}#sk-container-id-1 div.sk-label-container {text-align: center;}#sk-container-id-1 div.sk-container {/* jupyter's `normalize.less` sets `[hidden] { display: none; }` but bootstrap.min.css set `[hidden] { display: none !important; }` so we also need the `!important` here to be able to override the default hidden behavior on the sphinx rendered scikit-learn.org. See: https://github.com/scikit-learn/scikit-learn/issues/21755 */display: inline-block !important;position: relative;}#sk-container-id-1 div.sk-text-repr-fallback {display: none;}</style><div id=\"sk-container-id-1\" class=\"sk-top-container\"><div class=\"sk-text-repr-fallback\"><pre>LogisticRegression()</pre><b>In a Jupyter environment, please rerun this cell to show the HTML representation or trust the notebook. <br />On GitHub, the HTML representation is unable to render, please try loading this page with nbviewer.org.</b></div><div class=\"sk-container\" hidden><div class=\"sk-item\"><div class=\"sk-estimator sk-toggleable\"><input class=\"sk-toggleable__control sk-hidden--visually\" id=\"sk-estimator-id-1\" type=\"checkbox\" checked><label for=\"sk-estimator-id-1\" class=\"sk-toggleable__label sk-toggleable__label-arrow\">LogisticRegression</label><div class=\"sk-toggleable__content\"><pre>LogisticRegression()</pre></div></div></div></div></div>"
      ],
      "text/plain": [
       "LogisticRegression()"
      ]
     },
     "execution_count": 15,
     "metadata": {},
     "output_type": "execute_result"
    }
   ],
   "source": [
    "logi_lr.fit(lr_train_x,lr_train_y)"
   ]
  },
  {
   "cell_type": "code",
   "execution_count": 16,
   "id": "a038e2c3",
   "metadata": {},
   "outputs": [
    {
     "data": {
      "text/plain": [
       "array([1, 1, 1, 1, 0, 1, 1, 1, 1, 1, 1, 1, 1, 1, 1, 1, 1, 1, 1, 1, 1, 1,\n",
       "       1, 1, 0, 1, 1, 1, 0, 1, 0, 1, 1, 1, 1, 1, 1, 1, 1, 1, 1, 1, 1, 1,\n",
       "       0, 0, 1, 1, 1, 1, 0, 1, 1, 0, 0, 1, 1, 1, 1, 0, 1, 1, 0, 0, 1, 0,\n",
       "       0, 1, 1, 1, 1, 1, 1, 1, 1, 1, 1, 1, 1, 1, 1, 1, 1, 1, 1, 1, 1, 0,\n",
       "       1, 1, 0, 1, 1, 1, 1, 1, 0, 1, 0, 1, 1, 0, 1, 1, 1, 1, 1, 1, 1, 1,\n",
       "       0, 1, 1, 1, 0, 1, 1, 0, 1, 1, 0, 1, 0, 1, 1, 1, 1, 1, 0, 0, 1, 0,\n",
       "       1, 1, 1, 0, 1, 1, 1, 1, 0, 1, 1, 1, 1, 0, 1, 1, 0, 0, 1, 0, 0, 0,\n",
       "       1, 1, 1, 0, 1, 0, 1, 1, 1, 1, 1, 1, 0, 1, 0, 1, 0, 1, 0, 1, 1, 1,\n",
       "       1, 1, 1, 1, 0, 0, 1, 1, 1, 1, 0, 1, 1, 1, 0, 1, 1, 1, 1, 0, 0])"
      ]
     },
     "execution_count": 16,
     "metadata": {},
     "output_type": "execute_result"
    }
   ],
   "source": [
    "pred = logi_lr.predict(lr_test_x)\n",
    "pred"
   ]
  },
  {
   "cell_type": "code",
   "execution_count": null,
   "id": "4a149cee",
   "metadata": {},
   "outputs": [],
   "source": []
  },
  {
   "cell_type": "code",
   "execution_count": 17,
   "id": "5c384a45",
   "metadata": {},
   "outputs": [],
   "source": [
    "from sklearn.metrics import confusion_matrix"
   ]
  },
  {
   "cell_type": "code",
   "execution_count": 18,
   "id": "6a325b11",
   "metadata": {},
   "outputs": [],
   "source": [
    "lr_tab = confusion_matrix(lr_test_y,pred)"
   ]
  },
  {
   "cell_type": "code",
   "execution_count": 19,
   "id": "1613e815",
   "metadata": {},
   "outputs": [
    {
     "data": {
      "text/plain": [
       "array([[ 37,  24],\n",
       "       [ 10, 126]], dtype=int64)"
      ]
     },
     "execution_count": 19,
     "metadata": {},
     "output_type": "execute_result"
    }
   ],
   "source": [
    "lr_tab"
   ]
  },
  {
   "cell_type": "markdown",
   "id": "3ee2f3e3",
   "metadata": {},
   "source": [
    "# Find The Accuracy"
   ]
  },
  {
   "cell_type": "code",
   "execution_count": 20,
   "id": "3f4cba0e",
   "metadata": {},
   "outputs": [
    {
     "data": {
      "text/plain": [
       "82.74111675126903"
      ]
     },
     "execution_count": 20,
     "metadata": {},
     "output_type": "execute_result"
    }
   ],
   "source": [
    "# total no of correct predictions\n",
    "\n",
    "lr_tab.diagonal().sum() * 100 / lr_tab.sum() "
   ]
  },
  {
   "cell_type": "code",
   "execution_count": 21,
   "id": "8b77d102",
   "metadata": {},
   "outputs": [],
   "source": [
    "from sklearn.metrics import accuracy_score"
   ]
  },
  {
   "cell_type": "code",
   "execution_count": 22,
   "id": "5550ce47",
   "metadata": {},
   "outputs": [
    {
     "data": {
      "text/plain": [
       "82.74111675126903"
      ]
     },
     "execution_count": 22,
     "metadata": {},
     "output_type": "execute_result"
    }
   ],
   "source": [
    "accuracy_score(lr_test_y,pred) * 100"
   ]
  },
  {
   "cell_type": "markdown",
   "id": "e270d48a",
   "metadata": {},
   "source": [
    "# recall(Tpr)\n",
    "\n",
    "- Tp/ Tp + Fn"
   ]
  },
  {
   "cell_type": "code",
   "execution_count": 23,
   "id": "2dddc3ab",
   "metadata": {},
   "outputs": [],
   "source": [
    "from sklearn.metrics import recall_score"
   ]
  },
  {
   "cell_type": "code",
   "execution_count": 24,
   "id": "90d1aee6",
   "metadata": {},
   "outputs": [
    {
     "data": {
      "text/plain": [
       "92.64705882352942"
      ]
     },
     "execution_count": 24,
     "metadata": {},
     "output_type": "execute_result"
    }
   ],
   "source": [
    "recall_score(lr_test_y,pred)*100"
   ]
  },
  {
   "cell_type": "code",
   "execution_count": null,
   "id": "6b1e5f9a",
   "metadata": {},
   "outputs": [],
   "source": []
  },
  {
   "cell_type": "markdown",
   "id": "fbafa736",
   "metadata": {},
   "source": [
    "# Precision(Hit Ratio)\n",
    "\n",
    "- Tp/Tp+Fp"
   ]
  },
  {
   "cell_type": "code",
   "execution_count": 25,
   "id": "adfcbafc",
   "metadata": {},
   "outputs": [],
   "source": [
    "from sklearn.metrics import precision_score"
   ]
  },
  {
   "cell_type": "code",
   "execution_count": 26,
   "id": "8a56c95b",
   "metadata": {},
   "outputs": [
    {
     "data": {
      "text/plain": [
       "84.0"
      ]
     },
     "execution_count": 26,
     "metadata": {},
     "output_type": "execute_result"
    }
   ],
   "source": [
    "precision_score(lr_test_y,pred)*100"
   ]
  },
  {
   "cell_type": "code",
   "execution_count": null,
   "id": "c37ca42b",
   "metadata": {},
   "outputs": [],
   "source": []
  },
  {
   "cell_type": "markdown",
   "id": "a4d72956",
   "metadata": {},
   "source": [
    "# F1 Ratio"
   ]
  },
  {
   "cell_type": "code",
   "execution_count": 27,
   "id": "9a0dcc02",
   "metadata": {},
   "outputs": [],
   "source": [
    "from sklearn.metrics import f1_score"
   ]
  },
  {
   "cell_type": "code",
   "execution_count": 28,
   "id": "66f9d1f4",
   "metadata": {},
   "outputs": [
    {
     "data": {
      "text/plain": [
       "88.1118881118881"
      ]
     },
     "execution_count": 28,
     "metadata": {},
     "output_type": "execute_result"
    }
   ],
   "source": [
    "f1_score(lr_test_y,pred)*100"
   ]
  },
  {
   "cell_type": "code",
   "execution_count": null,
   "id": "ab3de39b",
   "metadata": {},
   "outputs": [],
   "source": []
  },
  {
   "cell_type": "markdown",
   "id": "778a47e6",
   "metadata": {},
   "source": [
    "# AUROC Curve"
   ]
  },
  {
   "cell_type": "code",
   "execution_count": 29,
   "id": "7841bef1",
   "metadata": {},
   "outputs": [],
   "source": [
    "from sklearn.metrics import roc_auc_score\n",
    "from sklearn.metrics import roc_curve"
   ]
  },
  {
   "cell_type": "code",
   "execution_count": 30,
   "id": "7725edc8",
   "metadata": {},
   "outputs": [
    {
     "data": {
      "text/plain": [
       "array([[0.09494579, 0.90505421],\n",
       "       [0.48920392, 0.51079608],\n",
       "       [0.09029594, 0.90970406],\n",
       "       [0.15782568, 0.84217432],\n",
       "       [0.50515124, 0.49484876],\n",
       "       [0.2036467 , 0.7963533 ],\n",
       "       [0.03629433, 0.96370567],\n",
       "       [0.10257519, 0.89742481],\n",
       "       [0.23410852, 0.76589148],\n",
       "       [0.02967141, 0.97032859],\n",
       "       [0.13570756, 0.86429244],\n",
       "       [0.20930924, 0.79069076],\n",
       "       [0.19185877, 0.80814123],\n",
       "       [0.1238528 , 0.8761472 ],\n",
       "       [0.21632516, 0.78367484],\n",
       "       [0.15544926, 0.84455074],\n",
       "       [0.16476521, 0.83523479],\n",
       "       [0.13542756, 0.86457244],\n",
       "       [0.1291067 , 0.8708933 ],\n",
       "       [0.21580491, 0.78419509],\n",
       "       [0.36843035, 0.63156965],\n",
       "       [0.21231559, 0.78768441],\n",
       "       [0.13134117, 0.86865883],\n",
       "       [0.17779104, 0.82220896],\n",
       "       [0.6650023 , 0.3349977 ],\n",
       "       [0.09992162, 0.90007838],\n",
       "       [0.19753616, 0.80246384],\n",
       "       [0.11882311, 0.88117689],\n",
       "       [0.66760255, 0.33239745],\n",
       "       [0.13135715, 0.86864285],\n",
       "       [0.83964279, 0.16035721],\n",
       "       [0.4921671 , 0.5078329 ],\n",
       "       [0.04260099, 0.95739901],\n",
       "       [0.48518014, 0.51481986],\n",
       "       [0.11415952, 0.88584048],\n",
       "       [0.21748994, 0.78251006],\n",
       "       [0.08601307, 0.91398693],\n",
       "       [0.2259926 , 0.7740074 ],\n",
       "       [0.14840323, 0.85159677],\n",
       "       [0.20499768, 0.79500232],\n",
       "       [0.18186207, 0.81813793],\n",
       "       [0.08766805, 0.91233195],\n",
       "       [0.11857203, 0.88142797],\n",
       "       [0.20389346, 0.79610654],\n",
       "       [0.74525527, 0.25474473],\n",
       "       [0.7504259 , 0.2495741 ],\n",
       "       [0.13060973, 0.86939027],\n",
       "       [0.21687874, 0.78312126],\n",
       "       [0.19268176, 0.80731824],\n",
       "       [0.17908364, 0.82091636],\n",
       "       [0.62008831, 0.37991169],\n",
       "       [0.16250028, 0.83749972],\n",
       "       [0.13871838, 0.86128162],\n",
       "       [0.67532986, 0.32467014],\n",
       "       [0.64933791, 0.35066209],\n",
       "       [0.12884603, 0.87115397],\n",
       "       [0.17558896, 0.82441104],\n",
       "       [0.13162904, 0.86837096],\n",
       "       [0.1225432 , 0.8774568 ],\n",
       "       [0.53861943, 0.46138057],\n",
       "       [0.18501729, 0.81498271],\n",
       "       [0.14078415, 0.85921585],\n",
       "       [0.74754347, 0.25245653],\n",
       "       [0.55022488, 0.44977512],\n",
       "       [0.13243259, 0.86756741],\n",
       "       [0.57622695, 0.42377305],\n",
       "       [0.71027575, 0.28972425],\n",
       "       [0.27333148, 0.72666852],\n",
       "       [0.10031027, 0.89968973],\n",
       "       [0.16274161, 0.83725839],\n",
       "       [0.27521267, 0.72478733],\n",
       "       [0.17369973, 0.82630027],\n",
       "       [0.18310636, 0.81689364],\n",
       "       [0.22999601, 0.77000399],\n",
       "       [0.12825832, 0.87174168],\n",
       "       [0.04132247, 0.95867753],\n",
       "       [0.16461096, 0.83538904],\n",
       "       [0.14448545, 0.85551455],\n",
       "       [0.49545391, 0.50454609],\n",
       "       [0.32917905, 0.67082095],\n",
       "       [0.20401351, 0.79598649],\n",
       "       [0.22226006, 0.77773994],\n",
       "       [0.14907037, 0.85092963],\n",
       "       [0.11244653, 0.88755347],\n",
       "       [0.12835437, 0.87164563],\n",
       "       [0.12360191, 0.87639809],\n",
       "       [0.20228538, 0.79771462],\n",
       "       [0.50836727, 0.49163273],\n",
       "       [0.12225257, 0.87774743],\n",
       "       [0.13913759, 0.86086241],\n",
       "       [0.55020603, 0.44979397],\n",
       "       [0.08675656, 0.91324344],\n",
       "       [0.09358948, 0.90641052],\n",
       "       [0.10030824, 0.89969176],\n",
       "       [0.20924577, 0.79075423],\n",
       "       [0.19969687, 0.80030313],\n",
       "       [0.59539394, 0.40460606],\n",
       "       [0.29840584, 0.70159416],\n",
       "       [0.79987674, 0.20012326],\n",
       "       [0.13946988, 0.86053012],\n",
       "       [0.22472187, 0.77527813],\n",
       "       [0.68431963, 0.31568037],\n",
       "       [0.29484024, 0.70515976],\n",
       "       [0.11074107, 0.88925893],\n",
       "       [0.12537435, 0.87462565],\n",
       "       [0.10181239, 0.89818761],\n",
       "       [0.27080062, 0.72919938],\n",
       "       [0.12567106, 0.87432894],\n",
       "       [0.17073162, 0.82926838],\n",
       "       [0.15628507, 0.84371493],\n",
       "       [0.69550614, 0.30449386],\n",
       "       [0.17535443, 0.82464557],\n",
       "       [0.17989962, 0.82010038],\n",
       "       [0.16901355, 0.83098645],\n",
       "       [0.60884433, 0.39115567],\n",
       "       [0.20622707, 0.79377293],\n",
       "       [0.17223541, 0.82776459],\n",
       "       [0.60383693, 0.39616307],\n",
       "       [0.29458705, 0.70541295],\n",
       "       [0.19246057, 0.80753943],\n",
       "       [0.71612592, 0.28387408],\n",
       "       [0.21192592, 0.78807408],\n",
       "       [0.59105528, 0.40894472],\n",
       "       [0.13654038, 0.86345962],\n",
       "       [0.17110973, 0.82889027],\n",
       "       [0.13348592, 0.86651408],\n",
       "       [0.10248943, 0.89751057],\n",
       "       [0.06761057, 0.93238943],\n",
       "       [0.69780641, 0.30219359],\n",
       "       [0.68609209, 0.31390791],\n",
       "       [0.25971887, 0.74028113],\n",
       "       [0.77612372, 0.22387628],\n",
       "       [0.158669  , 0.841331  ],\n",
       "       [0.12725373, 0.87274627],\n",
       "       [0.13843328, 0.86156672],\n",
       "       [0.56602546, 0.43397454],\n",
       "       [0.176662  , 0.823338  ],\n",
       "       [0.17771605, 0.82228395],\n",
       "       [0.1206162 , 0.8793838 ],\n",
       "       [0.08855467, 0.91144533],\n",
       "       [0.62246402, 0.37753598],\n",
       "       [0.20190573, 0.79809427],\n",
       "       [0.18636512, 0.81363488],\n",
       "       [0.09618443, 0.90381557],\n",
       "       [0.16472432, 0.83527568],\n",
       "       [0.74198723, 0.25801277],\n",
       "       [0.12631761, 0.87368239],\n",
       "       [0.18366362, 0.81633638],\n",
       "       [0.61551454, 0.38448546],\n",
       "       [0.72983501, 0.27016499],\n",
       "       [0.25107739, 0.74892261],\n",
       "       [0.52120991, 0.47879009],\n",
       "       [0.66994391, 0.33005609],\n",
       "       [0.50359521, 0.49640479],\n",
       "       [0.20626848, 0.79373152],\n",
       "       [0.20535793, 0.79464207],\n",
       "       [0.1920065 , 0.8079935 ],\n",
       "       [0.67538005, 0.32461995],\n",
       "       [0.191371  , 0.808629  ],\n",
       "       [0.60298877, 0.39701123],\n",
       "       [0.20848362, 0.79151638],\n",
       "       [0.15044373, 0.84955627],\n",
       "       [0.26206099, 0.73793901],\n",
       "       [0.13994515, 0.86005485],\n",
       "       [0.28387033, 0.71612967],\n",
       "       [0.13475021, 0.86524979],\n",
       "       [0.75982043, 0.24017957],\n",
       "       [0.14223763, 0.85776237],\n",
       "       [0.64256965, 0.35743035],\n",
       "       [0.12570121, 0.87429879],\n",
       "       [0.6457453 , 0.3542547 ],\n",
       "       [0.05112733, 0.94887267],\n",
       "       [0.73179702, 0.26820298],\n",
       "       [0.19313813, 0.80686187],\n",
       "       [0.12834431, 0.87165569],\n",
       "       [0.09765875, 0.90234125],\n",
       "       [0.11458071, 0.88541929],\n",
       "       [0.1272976 , 0.8727024 ],\n",
       "       [0.20440247, 0.79559753],\n",
       "       [0.13559716, 0.86440284],\n",
       "       [0.5575314 , 0.4424686 ],\n",
       "       [0.66581214, 0.33418786],\n",
       "       [0.05215985, 0.94784015],\n",
       "       [0.10731538, 0.89268462],\n",
       "       [0.22256315, 0.77743685],\n",
       "       [0.14543046, 0.85456954],\n",
       "       [0.64017235, 0.35982765],\n",
       "       [0.05528238, 0.94471762],\n",
       "       [0.12109284, 0.87890716],\n",
       "       [0.0905766 , 0.9094234 ],\n",
       "       [0.55920468, 0.44079532],\n",
       "       [0.31283925, 0.68716075],\n",
       "       [0.18034601, 0.81965399],\n",
       "       [0.1253364 , 0.8746636 ],\n",
       "       [0.33723796, 0.66276204],\n",
       "       [0.75794617, 0.24205383],\n",
       "       [0.57206989, 0.42793011]])"
      ]
     },
     "execution_count": 30,
     "metadata": {},
     "output_type": "execute_result"
    }
   ],
   "source": [
    "pred_prob = logi_lr.predict_proba(lr_test_x)\n",
    "pred_prob"
   ]
  },
  {
   "cell_type": "code",
   "execution_count": 31,
   "id": "146c3549",
   "metadata": {},
   "outputs": [
    {
     "data": {
      "text/plain": [
       "array([1, 1, 1, 1, 0, 1, 1, 1, 1, 1, 1, 1, 1, 1, 1, 1, 1, 1, 1, 1, 1, 1,\n",
       "       1, 1, 0, 1, 1, 1, 0, 1, 0, 1, 1, 1, 1, 1, 1, 1, 1, 1, 1, 1, 1, 1,\n",
       "       0, 0, 1, 1, 1, 1, 0, 1, 1, 0, 0, 1, 1, 1, 1, 0, 1, 1, 0, 0, 1, 0,\n",
       "       0, 1, 1, 1, 1, 1, 1, 1, 1, 1, 1, 1, 1, 1, 1, 1, 1, 1, 1, 1, 1, 0,\n",
       "       1, 1, 0, 1, 1, 1, 1, 1, 0, 1, 0, 1, 1, 0, 1, 1, 1, 1, 1, 1, 1, 1,\n",
       "       0, 1, 1, 1, 0, 1, 1, 0, 1, 1, 0, 1, 0, 1, 1, 1, 1, 1, 0, 0, 1, 0,\n",
       "       1, 1, 1, 0, 1, 1, 1, 1, 0, 1, 1, 1, 1, 0, 1, 1, 0, 0, 1, 0, 0, 0,\n",
       "       1, 1, 1, 0, 1, 0, 1, 1, 1, 1, 1, 1, 0, 1, 0, 1, 0, 1, 0, 1, 1, 1,\n",
       "       1, 1, 1, 1, 0, 0, 1, 1, 1, 1, 0, 1, 1, 1, 0, 1, 1, 1, 1, 0, 0])"
      ]
     },
     "execution_count": 31,
     "metadata": {},
     "output_type": "execute_result"
    }
   ],
   "source": [
    "pred_q = logi_lr.predict(lr_test_x)\n",
    "pred_q"
   ]
  },
  {
   "cell_type": "code",
   "execution_count": 32,
   "id": "3c9a4155",
   "metadata": {},
   "outputs": [
    {
     "data": {
      "text/plain": [
       "0.7665139826422371"
      ]
     },
     "execution_count": 32,
     "metadata": {},
     "output_type": "execute_result"
    }
   ],
   "source": [
    "roc_auc_score(lr_test_y, pred_q)"
   ]
  },
  {
   "cell_type": "code",
   "execution_count": 33,
   "id": "a3058284",
   "metadata": {},
   "outputs": [
    {
     "data": {
      "text/plain": [
       "array([0.90505421, 0.51079608, 0.90970406, 0.84217432, 0.49484876,\n",
       "       0.7963533 , 0.96370567, 0.89742481, 0.76589148, 0.97032859,\n",
       "       0.86429244, 0.79069076, 0.80814123, 0.8761472 , 0.78367484,\n",
       "       0.84455074, 0.83523479, 0.86457244, 0.8708933 , 0.78419509,\n",
       "       0.63156965, 0.78768441, 0.86865883, 0.82220896, 0.3349977 ,\n",
       "       0.90007838, 0.80246384, 0.88117689, 0.33239745, 0.86864285,\n",
       "       0.16035721, 0.5078329 , 0.95739901, 0.51481986, 0.88584048,\n",
       "       0.78251006, 0.91398693, 0.7740074 , 0.85159677, 0.79500232,\n",
       "       0.81813793, 0.91233195, 0.88142797, 0.79610654, 0.25474473,\n",
       "       0.2495741 , 0.86939027, 0.78312126, 0.80731824, 0.82091636,\n",
       "       0.37991169, 0.83749972, 0.86128162, 0.32467014, 0.35066209,\n",
       "       0.87115397, 0.82441104, 0.86837096, 0.8774568 , 0.46138057,\n",
       "       0.81498271, 0.85921585, 0.25245653, 0.44977512, 0.86756741,\n",
       "       0.42377305, 0.28972425, 0.72666852, 0.89968973, 0.83725839,\n",
       "       0.72478733, 0.82630027, 0.81689364, 0.77000399, 0.87174168,\n",
       "       0.95867753, 0.83538904, 0.85551455, 0.50454609, 0.67082095,\n",
       "       0.79598649, 0.77773994, 0.85092963, 0.88755347, 0.87164563,\n",
       "       0.87639809, 0.79771462, 0.49163273, 0.87774743, 0.86086241,\n",
       "       0.44979397, 0.91324344, 0.90641052, 0.89969176, 0.79075423,\n",
       "       0.80030313, 0.40460606, 0.70159416, 0.20012326, 0.86053012,\n",
       "       0.77527813, 0.31568037, 0.70515976, 0.88925893, 0.87462565,\n",
       "       0.89818761, 0.72919938, 0.87432894, 0.82926838, 0.84371493,\n",
       "       0.30449386, 0.82464557, 0.82010038, 0.83098645, 0.39115567,\n",
       "       0.79377293, 0.82776459, 0.39616307, 0.70541295, 0.80753943,\n",
       "       0.28387408, 0.78807408, 0.40894472, 0.86345962, 0.82889027,\n",
       "       0.86651408, 0.89751057, 0.93238943, 0.30219359, 0.31390791,\n",
       "       0.74028113, 0.22387628, 0.841331  , 0.87274627, 0.86156672,\n",
       "       0.43397454, 0.823338  , 0.82228395, 0.8793838 , 0.91144533,\n",
       "       0.37753598, 0.79809427, 0.81363488, 0.90381557, 0.83527568,\n",
       "       0.25801277, 0.87368239, 0.81633638, 0.38448546, 0.27016499,\n",
       "       0.74892261, 0.47879009, 0.33005609, 0.49640479, 0.79373152,\n",
       "       0.79464207, 0.8079935 , 0.32461995, 0.808629  , 0.39701123,\n",
       "       0.79151638, 0.84955627, 0.73793901, 0.86005485, 0.71612967,\n",
       "       0.86524979, 0.24017957, 0.85776237, 0.35743035, 0.87429879,\n",
       "       0.3542547 , 0.94887267, 0.26820298, 0.80686187, 0.87165569,\n",
       "       0.90234125, 0.88541929, 0.8727024 , 0.79559753, 0.86440284,\n",
       "       0.4424686 , 0.33418786, 0.94784015, 0.89268462, 0.77743685,\n",
       "       0.85456954, 0.35982765, 0.94471762, 0.87890716, 0.9094234 ,\n",
       "       0.44079532, 0.68716075, 0.81965399, 0.8746636 , 0.66276204,\n",
       "       0.24205383, 0.42793011])"
      ]
     },
     "execution_count": 33,
     "metadata": {},
     "output_type": "execute_result"
    }
   ],
   "source": [
    "pred_prob[:,1]"
   ]
  },
  {
   "cell_type": "code",
   "execution_count": 34,
   "id": "bdc42ac3",
   "metadata": {},
   "outputs": [],
   "source": [
    "fpr, tpr, ther = roc_curve(lr_test_y,pred_prob[:,1])"
   ]
  },
  {
   "cell_type": "code",
   "execution_count": 35,
   "id": "43391666",
   "metadata": {},
   "outputs": [],
   "source": [
    "import matplotlib.pyplot as plt"
   ]
  },
  {
   "cell_type": "code",
   "execution_count": 36,
   "id": "59e19a1e",
   "metadata": {},
   "outputs": [
    {
     "data": {
      "text/plain": [
       "[<matplotlib.lines.Line2D at 0x2834c823f70>]"
      ]
     },
     "execution_count": 36,
     "metadata": {},
     "output_type": "execute_result"
    },
    {
     "data": {
      "image/png": "[encoded data removed]",
      "text/plain": [
       "<Figure size 640x480 with 1 Axes>"
      ]
     },
     "metadata": {},
     "output_type": "display_data"
    }
   ],
   "source": [
    "plt.plot(fpr,tpr)"
   ]
  },
  {
   "cell_type": "code",
   "execution_count": 37,
   "id": "600c201b",
   "metadata": {},
   "outputs": [
    {
     "data": {
      "text/plain": [
       "Text(0.5, 0.5, 'AUROC score is 0.766513')"
      ]
     },
     "execution_count": 37,
     "metadata": {},
     "output_type": "execute_result"
    },
    {
     "data": {
      "image/png": "[encoded data removed]",
      "text/plain": [
       "<Figure size 640x480 with 1 Axes>"
      ]
     },
     "metadata": {},
     "output_type": "display_data"
    }
   ],
   "source": [
    "plt.plot(fpr,tpr,color='r')\n",
    "plt.xlabel('Fpr')\n",
    "plt.ylabel('Tpr')\n",
    "plt.title('AUROC or credit Risk Data')\n",
    "plt.grid()\n",
    "plt.text(x=0.5,y=0.5, s= 'AUROC score is 0.766513')"
   ]
  },
  {
   "cell_type": "code",
   "execution_count": null,
   "id": "0ce9b12f",
   "metadata": {},
   "outputs": [],
   "source": []
  }
 ],
 "metadata": {
  "kernelspec": {
   "display_name": "Python 3 (ipykernel)",
   "language": "python",
   "name": "python3"
  },
  "language_info": {
   "codemirror_mode": {
    "name": "ipython",
    "version": 3
   },
   "file_extension": ".py",
   "mimetype": "text/x-python",
   "name": "python",
   "nbconvert_exporter": "python",
   "pygments_lexer": "ipython3",
   "version": "3.10.12"
  }
 },
 "nbformat": 4,
 "nbformat_minor": 5
}
